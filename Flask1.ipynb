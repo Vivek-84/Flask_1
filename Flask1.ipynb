{
 "cells": [
  {
   "cell_type": "markdown",
   "id": "d3581962",
   "metadata": {},
   "source": [
    "# What is Flask Framework? What are the advantages of Flask Framework?"
   ]
  },
  {
   "cell_type": "code",
   "execution_count": null,
   "id": "6c006d80",
   "metadata": {},
   "outputs": [],
   "source": [
    "# Flask is considered a micro web framework is written in Python programming. The word “micro” means focusing to keep the core \n",
    "# extensible but straightforward. It is not dependent upon external libraries to perform the tasks of a framework. Flask \n",
    "# framework is more independent, flexible, and simple so many developers prefer to start with Flask.\n",
    "#Flask is based on the Werkzeg WSGI toolkit and the Jinja2 template engine.Both are Pocco projects.\n",
    "\n",
    "#WSGI : The Web Server Gateway Interface (Web Server Gateway Interface, WSGI) has been used as a standard for Python web \n",
    "#application development. WSGI is the specification of a common interface between web servers and web applications.\n",
    "\n",
    "#Werkzeug: It is a WSGI toolkit that implements requests, response objects, and utility functions. This enables a web frame to \n",
    "#be built on it. The Flask framework uses Werkzeg as one of its bases.\n",
    "\n",
    "#jinja2: It is a popular template engine for Python.A web template system combines a template with a specific data source to\n",
    "#render a dynamic web page.This allows you to pass Python variables into HTML templates like this:\n",
    "\n",
    "# <html>\n",
    "#     <head>\n",
    "#         <title>{{ title }}</title>\n",
    "#     </head>\n",
    "#     <body>\n",
    "#         <h1>Hello {{ username }}</h1>\n",
    "#     </body>\n",
    "# </html>\n",
    "\n",
    "#Flask is often referred to as a microframework. It is designed to keep the core of the application simple and scalable.\n",
    "#Instead of an abstraction layer for database support, Flask supports extensions to add such capabilities to the application.\n",
    "\n",
    "\n",
    "\n",
    "# Advantage:\n",
    "\n",
    "# Lightweight: Flask is a lightweight framework because it is independent of external libraries and it gives a quick start for \n",
    "# web development having complex applications.\n",
    "\n",
    "# Compatible: Flask is compatible with the latest technologies such as machine learning, agile development, cloud technologies,\n",
    "# etc.\n",
    "# Independent: Flask allows full control to the developers for creating web applications. A developer can do the experiment with\n",
    "# the libraries and architecture of the framework.\n",
    "\n",
    "# Integrated Unit Testing: Flask offers an integrated unit testing feature that helps in faster debugging, robust development, \n",
    "# and independence to do experiments.\n",
    "\n",
    "# Flexible and Scalable: Flask supports WSGI templates that help in flexibility and scalability in the web development process.\n",
    "\n",
    "# Secure Cookies: Secure cookie is an attribute of an HTTP request that enables the security of channels and ensures no\n",
    "# unauthorized person has access to the text. Flask supports the feature of secure cookies.\n"
   ]
  },
  {
   "cell_type": "markdown",
   "id": "46d92c44",
   "metadata": {},
   "source": [
    "#  Create a simple Flask application to display ‘Hello World!!’. Attach the screenshot of the output in jupeter Notebook"
   ]
  },
  {
   "cell_type": "raw",
   "id": "abd357d0",
   "metadata": {},
   "source": [
    "from flask import Flask\n",
    "app = Flask(__name__)\n",
    "\n",
    "@app.route('/')\n",
    "def hello_world():\n",
    "    return 'Hello World!'\n",
    "\n",
    "if __name__ == '__main__':\n",
    "    app.run()\n",
    "\n"
   ]
  },
  {
   "cell_type": "markdown",
   "id": "8f0d1b10",
   "metadata": {},
   "source": [
    "# What is App routing in Flask? Why do we use app routes?"
   ]
  },
  {
   "cell_type": "raw",
   "id": "1a006848",
   "metadata": {},
   "source": [
    "App Routing: It means mapping the URLs to a specific function that will handle the logic for that URL. Modern web frameworks\n",
    "use more meaningful URLs to help users remember the URLs and make navigation simpler. Example: In our application, the URL \n",
    "(“/”) is associated with the root URL."
   ]
  },
  {
   "cell_type": "markdown",
   "id": "1f986bdd",
   "metadata": {},
   "source": [
    "# Create a “/welcome” route to display the welcome message “Welcome to ABC Corporation” and a “/” \n",
    "route to show the following details:\n",
    "\n",
    "    Company Name: ABC Corporation\n",
    "\n",
    "    Location: India\n",
    "\n",
    "    Contact Detail: 999-999-9999"
   ]
  },
  {
   "cell_type": "raw",
   "id": "b3307398",
   "metadata": {},
   "source": [
    "from flask import Flask\n",
    "from flask import request\n",
    "app = Flask(__name__)\n",
    "\n",
    "@app.route('/welcome')\n",
    "def welcome():\n",
    "    return \"<h1> Welcome to ABC Corporation </h1>\"\n",
    "\n",
    "@app.route('/')\n",
    "def Info():\n",
    "    return '''<h2>\n",
    "    <br> Company Name: ABC Corporation </br> \n",
    "    <br> Location: India </br> \n",
    "    <br> Contact Detail: 999-999-9999 </br> \n",
    "\n",
    "</h2>'''\n",
    "\n",
    "if __name__ == '__main__':\n",
    "    app.run(host = \"0.0.0.0\")\n",
    "\n"
   ]
  },
  {
   "cell_type": "markdown",
   "id": "d79b0b70",
   "metadata": {},
   "source": [
    "# What function is used in Flask for URL Building? Write a Python code to demonstrate the working of the url_for() function.\n"
   ]
  },
  {
   "cell_type": "code",
   "execution_count": null,
   "id": "30a69569",
   "metadata": {},
   "outputs": [],
   "source": [
    "To build a URL to a specific function, use the url_for() function. It accepts the name of the function as its first argument \n",
    "and any number of keyword arguments, each corresponding to a variable part of the URL rule.\n",
    "\n",
    "from flask import url_for, Flask\n",
    "appFlask = Flask(__name__)\n",
    "@appFlask.route('/home')\n",
    "def home():\n",
    "   return 'We are at home page'\n",
    "with appFlask.test_request_context():\n",
    "    print(url_for('login'))"
   ]
  }
 ],
 "metadata": {
  "kernelspec": {
   "display_name": "Python 3 (ipykernel)",
   "language": "python",
   "name": "python3"
  },
  "language_info": {
   "codemirror_mode": {
    "name": "ipython",
    "version": 3
   },
   "file_extension": ".py",
   "mimetype": "text/x-python",
   "name": "python",
   "nbconvert_exporter": "python",
   "pygments_lexer": "ipython3",
   "version": "3.11.4"
  }
 },
 "nbformat": 4,
 "nbformat_minor": 5
}
